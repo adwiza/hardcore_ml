{
 "cells": [
  {
   "cell_type": "markdown",
   "id": "46200614-a3ca-490d-a02a-390b4c85c5f9",
   "metadata": {},
   "source": [
    "# Разбор методов построения uplift-моделей"
   ]
  },
  {
   "cell_type": "code",
   "execution_count": 3,
   "id": "e7c0d875-b5fa-4bdc-a629-d17d09e0046c",
   "metadata": {},
   "outputs": [],
   "source": [
    "import pandas as pd\n",
    "import numpy as np\n",
    "import dask.dataframe as dd\n",
    "import seaborn as sns\n",
    "import matplotlib.pyplot as plt\n",
    "import scipy as sp\n",
    "\n",
    "from IPython.display import Image"
   ]
  },
  {
   "cell_type": "code",
   "execution_count": 5,
   "id": "b3c59ad0-ac06-4958-9703-c40cc2d5cfad",
   "metadata": {},
   "outputs": [],
   "source": [
    "import causalml\n",
    "import causalml.metrics as cmetrics\n",
    "import causalml.inference.tree as ctree\n",
    "import causalml.inference.meta.xlearner as xlearner\n",
    "import causalml.inference.meta.rlearner as rlearner\n",
    "import causalml.inference.meta.tlearner as tlearner\n",
    "\n",
    "import pylift\n",
    "import catboost as cb\n",
    "import lightgbm as lgb"
   ]
  },
  {
   "cell_type": "code",
   "execution_count": 6,
   "id": "22c74a69-a24a-4765-a246-fa290729f81b",
   "metadata": {},
   "outputs": [],
   "source": [
    "def dict_coalesce(left_dict: dict, right_dict: dict) -> None:\n",
    "    for key, value in right_dict.items():\n",
    "        if key not in left_dict:\n",
    "            left_dict[key] = value\n",
    "\n",
    "class FunctionWrapper(object):\n",
    "    def __init__(self, function, **params):\n",
    "        self.params = params\n",
    "        self.function = function\n",
    "\n",
    "    def __call__(self, *args, **kwargs):\n",
    "        dict_coalesce(kwargs, self.params)\n",
    "        return self.function(*args, **kwargs)"
   ]
  },
  {
   "cell_type": "markdown",
   "id": "fc5840be-3b4e-4f5e-8fc1-a8a4a00e6103",
   "metadata": {},
   "source": [
    "# T-learner"
   ]
  },
  {
   "cell_type": "code",
   "execution_count": 7,
   "id": "efa7a07e-f55c-40be-92a6-d21d6eb9a88f",
   "metadata": {},
   "outputs": [],
   "source": [
    "model_nl1 = tlearner.BaseTRegressor(\n",
    "    learner=lgb.LGBMRegressor(),\n",
    "    control_name=0\n",
    ")"
   ]
  },
  {
   "cell_type": "code",
   "execution_count": null,
   "id": "c6e08b48-4b68-4fe6-9200-5f946336f985",
   "metadata": {},
   "outputs": [],
   "source": [
    "model_nl1.fit(\n",
    "    X=data.loc[fit_index, cols_]\n",
    ")"
   ]
  }
 ],
 "metadata": {
  "kernelspec": {
   "display_name": "Python 3 (ipykernel)",
   "language": "python",
   "name": "python3"
  },
  "language_info": {
   "codemirror_mode": {
    "name": "ipython",
    "version": 3
   },
   "file_extension": ".py",
   "mimetype": "text/x-python",
   "name": "python",
   "nbconvert_exporter": "python",
   "pygments_lexer": "ipython3",
   "version": "3.11.5"
  }
 },
 "nbformat": 4,
 "nbformat_minor": 5
}
