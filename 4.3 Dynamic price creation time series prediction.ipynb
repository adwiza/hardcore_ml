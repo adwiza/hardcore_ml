{
 "cells": [
  {
   "cell_type": "markdown",
   "id": "19c3f3f8-1c46-41b8-b467-8d3a80a682b4",
   "metadata": {},
   "source": [
    "# Прогнозирование временных рядов"
   ]
  },
  {
   "cell_type": "code",
   "execution_count": null,
   "id": "d97549ba-c4b2-41ed-982c-14372c393cc6",
   "metadata": {},
   "outputs": [],
   "source": []
  }
 ],
 "metadata": {
  "kernelspec": {
   "display_name": "Python 3 (ipykernel)",
   "language": "python",
   "name": "python3"
  },
  "language_info": {
   "codemirror_mode": {
    "name": "ipython",
    "version": 3
   },
   "file_extension": ".py",
   "mimetype": "text/x-python",
   "name": "python",
   "nbconvert_exporter": "python",
   "pygments_lexer": "ipython3",
   "version": "3.11.5"
  }
 },
 "nbformat": 4,
 "nbformat_minor": 5
}
