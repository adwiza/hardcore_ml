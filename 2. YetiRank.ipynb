{
 "cells": [
  {
   "cell_type": "code",
   "execution_count": 1,
   "id": "58d3cb3f",
   "metadata": {},
   "outputs": [
    {
     "name": "stderr",
     "output_type": "stream",
     "text": [
      "/Users/adwiz/miniconda3/envs/torch/lib/python3.8/site-packages/tqdm/auto.py:21: TqdmWarning: IProgress not found. Please update jupyter and ipywidgets. See https://ipywidgets.readthedocs.io/en/stable/user_install.html\n",
      "  from .autonotebook import tqdm as notebook_tqdm\n"
     ]
    }
   ],
   "source": [
    "import torch\n",
    "import numpy as np\n",
    "from utils import compute_ideal_dcg, ndcg"
   ]
  },
  {
   "cell_type": "code",
   "execution_count": 2,
   "id": "788ca880",
   "metadata": {},
   "outputs": [],
   "source": [
    "y_true = torch.LongTensor([[5, 3, 2, 1, 1]]).reshape(-1, 1)\n",
    "y_pred = torch.FloatTensor([3.2, 0.4, -0.1, -2.1, .5, .01]).reshape(-1, 1)"
   ]
  },
  {
   "cell_type": "code",
   "execution_count": 3,
   "id": "b327da11",
   "metadata": {},
   "outputs": [
    {
     "data": {
      "text/plain": [
       "tensor([[ 3.2000],\n",
       "        [ 0.4000],\n",
       "        [-0.1000],\n",
       "        [-2.1000],\n",
       "        [ 0.5000],\n",
       "        [ 0.0100]])"
      ]
     },
     "execution_count": 3,
     "metadata": {},
     "output_type": "execute_result"
    }
   ],
   "source": [
    "y_pred"
   ]
  },
  {
   "cell_type": "code",
   "execution_count": 4,
   "id": "3a7e1f40",
   "metadata": {},
   "outputs": [
    {
     "data": {
      "text/latex": [
       "$$\\lambda = \\left(0.5 * (1 - S_{ij}) - \\frac {1} {1 + e^{s_i - s_j}}\\right) |\\Delta nDCG|$$\n"
      ],
      "text/plain": [
       "<IPython.core.display.Latex object>"
      ]
     },
     "metadata": {},
     "output_type": "display_data"
    }
   ],
   "source": [
    "%%latex\n",
    "$$\\lambda = \\left(0.5 * (1 - S_{ij}) - \\frac {1} {1 + e^{s_i - s_j}}\\right) |\\Delta nDCG|$$"
   ]
  },
  {
   "cell_type": "code",
   "execution_count": 5,
   "id": "ae19634e",
   "metadata": {},
   "outputs": [
    {
     "data": {
      "text/latex": [
       "$$\\Delta nDCG = \\frac {1} {IdealDCG} (2^i - 2^j) \\left(\\frac {1} {log_2(1+i)} - \\frac {1} {log_2(1+j)}\\right)$$\n"
      ],
      "text/plain": [
       "<IPython.core.display.Latex object>"
      ]
     },
     "metadata": {},
     "output_type": "display_data"
    }
   ],
   "source": [
    "%%latex\n",
    "$$\\Delta nDCG = \\frac {1} {IdealDCG} (2^i - 2^j) \\left(\\frac {1} {log_2(1+i)} - \\frac {1} {log_2(1+j)}\\right)$$"
   ]
  },
  {
   "cell_type": "code",
   "execution_count": 6,
   "id": "44266436",
   "metadata": {},
   "outputs": [],
   "source": [
    "def compute_lambdas(y_true, y_pred, ndcg_scheme='exp2'):\n",
    "    # рассчитаем нормировку, IdealDCG\n",
    "    ideal_dcg = compute_ideal_dcg(y_true, ndcg_scheme=ndcg_scheme)\n",
    "    N = 1 / ideal_dcg\n",
    "    \n",
    "    # рассчитаем порядок документов согласно оценкам релевантности\n",
    "    _, rank_order = torch.sort(y_true, descending=True, axis=0)\n",
    "    rank_order += 1\n",
    "    \n",
    "    with torch.no_grad():\n",
    "        # Получаем все попарные разницы скоров в батче\n",
    "        pos_pairs_score_diff = 1.0 + torch.exp((y_pred - y_pred.t()))\n",
    "        \n",
    "        # поставим разметку для пар, 1 если первый документ релевантнее\n",
    "        # -1 если второй документ релевантнее\n",
    "        Sij = compute_labels_in_batch(y_true)\n",
    "        # посчитаем изменение gain из-за перестановок\n",
    "        gain_diff = compute_gain_diff(y_true, ndcg_scheme)\n",
    "        \n",
    "        # посчитаем изменение знаменателей-дискаунтеров\n",
    "        decay_diff = (1.0 / torch.log2(rank_order + 1.0)) - (1.0 / torch.log2(rank_order.t() + 1))\n",
    "        # посчитаем непосредственное изменение nDCG\n",
    "        delta_ndcg = torch.abs(N * gain_diff * decay_diff)\n",
    "        # посчитаем лямбды\n",
    "        lambda_update = (.5 * (1 - Sij) - 1 / pos_pairs_score_diff) * delta_ndcg\n",
    "        lambda_update = torch.sum(lambda_update, dim=1, keepdim=True)\n",
    "        \n",
    "        return Sij, gain_diff, decay_diff, delta_ndcg, lambda_update\n",
    "\n",
    "\n",
    "def compute_lambdas(y_true, y_pred):\n",
    "    # рассчитаем нормировку, IdealDCG\n",
    "    ideal_dcg = compute_ideal_dcg(y_true)\n",
    "    N = 1 / ideal_dcg\n",
    "\n",
    "    # рассчитаем порядок документов согласно оценкам релевантности\n",
    "    _, rank_order = torch.sort(y_true, descending=True, axis=0)\n",
    "    rank_order += 1\n",
    "\n",
    "    with torch.no_grad():\n",
    "        # получаем все попарные разницы скоров в батче\n",
    "        pos_pairs_score_diff = 1.0 + torch.exp((y_pred - y_pred.t()))\n",
    "\n",
    "        # поставим разметку для пар, 1 если первый документ релевантнее\n",
    "        # -1 если второй документ релевантнее\n",
    "        Sij = compute_labels_in_batch(y_true)\n",
    "        # посчитаем изменение gain из-за перестановок\n",
    "        gain_diff = compute_gain_diff(y_true, ndcg_scheme)\n",
    "\n",
    "        # посчитаем изменение знаменателей-дискаунтеров\n",
    "        decay_diff = (1.0 / torch.log2(rank_order + 1.0)) - \\\n",
    "            (1.0 / torch.log2(rank_order.t() + 1.0))\n",
    "        # посчитаем непосредственное изменение nDCG\n",
    "        delta_ndcg = torch.abs(N * gain_diff * decay_diff)\n",
    "        # посчитаем лямбды\n",
    "        lambda_update = (0.5 * (1 - Sij) - 1 /\n",
    "                         pos_pairs_score_diff) * delta_ndcg\n",
    "        lambda_update = torch.sum(lambda_update, dim=1, keepdim=True)\n",
    "\n",
    "        return lambda_update \n",
    "        \n",
    "def compute_labels_in_batch(y_true):\n",
    "    rel_diff = y_true - y_true.t()\n",
    "    pos_pairs = (rel_diff > 0).type(torch.float32)\n",
    "    neg_pairs = (rel_diff < 0).type(torch.float32)\n",
    "    Sij = pos_pairs - neg_pairs\n",
    "    return Sij\n",
    "\n",
    "def compute_gain_diff(y_true, gain_scheme):\n",
    "    if ndcg_scheme == \"exp2\":\n",
    "        gain_diff = torch.pow(2.0, y_true) - torch.pow(2.0, y_true.t())\n",
    "    elif ndcg_scheme == \"diff\":\n",
    "        gain_diff = y_true - y_true.t()\n",
    "    else:\n",
    "        raise ValueError(f\"{gain_scheme} method not supported\")\n",
    "    return gain_diff"
   ]
  },
  {
   "cell_type": "code",
   "execution_count": 7,
   "id": "9b7bedbe",
   "metadata": {},
   "outputs": [
    {
     "data": {
      "text/plain": [
       "tensor([[ 0.0000,  2.8000,  3.3000,  5.3000,  2.7000,  3.1900],\n",
       "        [-2.8000,  0.0000,  0.5000,  2.5000, -0.1000,  0.3900],\n",
       "        [-3.3000, -0.5000,  0.0000,  2.0000, -0.6000, -0.1100],\n",
       "        [-5.3000, -2.5000, -2.0000,  0.0000, -2.6000, -2.1100],\n",
       "        [-2.7000,  0.1000,  0.6000,  2.6000,  0.0000,  0.4900],\n",
       "        [-3.1900, -0.3900,  0.1100,  2.1100, -0.4900,  0.0000]])"
      ]
     },
     "execution_count": 7,
     "metadata": {},
     "output_type": "execute_result"
    }
   ],
   "source": [
    "y_pred - y_pred.t()"
   ]
  },
  {
   "cell_type": "code",
   "execution_count": 8,
   "id": "ed49b75c",
   "metadata": {},
   "outputs": [
    {
     "data": {
      "text/plain": [
       "tensor([[ 0,  2,  3,  4,  4],\n",
       "        [-2,  0,  1,  2,  2],\n",
       "        [-3, -1,  0,  1,  1],\n",
       "        [-4, -2, -1,  0,  0],\n",
       "        [-4, -2, -1,  0,  0]])"
      ]
     },
     "execution_count": 8,
     "metadata": {},
     "output_type": "execute_result"
    }
   ],
   "source": [
    "y_true - y_true.t()"
   ]
  },
  {
   "cell_type": "code",
   "execution_count": 9,
   "id": "78a68521",
   "metadata": {},
   "outputs": [
    {
     "ename": "NameError",
     "evalue": "name 'ndcg_scheme' is not defined",
     "output_type": "error",
     "traceback": [
      "\u001b[0;31m---------------------------------------------------------------------------\u001b[0m",
      "\u001b[0;31mNameError\u001b[0m                                 Traceback (most recent call last)",
      "Cell \u001b[0;32mIn[9], line 1\u001b[0m\n\u001b[0;32m----> 1\u001b[0m Sij, gain_diff, decay_diff, delta_ndcg, lambda_update \u001b[38;5;241m=\u001b[39m \u001b[43mcompute_lambdas\u001b[49m\u001b[43m(\u001b[49m\u001b[43my_true\u001b[49m\u001b[43m,\u001b[49m\u001b[43m \u001b[49m\u001b[43my_pred\u001b[49m\u001b[43m)\u001b[49m\n",
      "Cell \u001b[0;32mIn[6], line 58\u001b[0m, in \u001b[0;36mcompute_lambdas\u001b[0;34m(y_true, y_pred)\u001b[0m\n\u001b[1;32m     56\u001b[0m Sij \u001b[38;5;241m=\u001b[39m compute_labels_in_batch(y_true)\n\u001b[1;32m     57\u001b[0m \u001b[38;5;66;03m# посчитаем изменение gain из-за перестановок\u001b[39;00m\n\u001b[0;32m---> 58\u001b[0m gain_diff \u001b[38;5;241m=\u001b[39m compute_gain_diff(y_true, \u001b[43mndcg_scheme\u001b[49m)\n\u001b[1;32m     60\u001b[0m \u001b[38;5;66;03m# посчитаем изменение знаменателей-дискаунтеров\u001b[39;00m\n\u001b[1;32m     61\u001b[0m decay_diff \u001b[38;5;241m=\u001b[39m (\u001b[38;5;241m1.0\u001b[39m \u001b[38;5;241m/\u001b[39m torch\u001b[38;5;241m.\u001b[39mlog2(rank_order \u001b[38;5;241m+\u001b[39m \u001b[38;5;241m1.0\u001b[39m)) \u001b[38;5;241m-\u001b[39m \\\n\u001b[1;32m     62\u001b[0m     (\u001b[38;5;241m1.0\u001b[39m \u001b[38;5;241m/\u001b[39m torch\u001b[38;5;241m.\u001b[39mlog2(rank_order\u001b[38;5;241m.\u001b[39mt() \u001b[38;5;241m+\u001b[39m \u001b[38;5;241m1.0\u001b[39m))\n",
      "\u001b[0;31mNameError\u001b[0m: name 'ndcg_scheme' is not defined"
     ]
    }
   ],
   "source": [
    "Sij, gain_diff, decay_diff, delta_ndcg, lambda_update = compute_lambdas(y_true, y_pred)"
   ]
  },
  {
   "cell_type": "code",
   "execution_count": null,
   "id": "4ec84f58",
   "metadata": {},
   "outputs": [],
   "source": []
  },
  {
   "cell_type": "code",
   "execution_count": null,
   "id": "2061e1d4",
   "metadata": {},
   "outputs": [],
   "source": [
    "d"
   ]
  }
 ],
 "metadata": {
  "kernelspec": {
   "display_name": "Python 3 (ipykernel)",
   "language": "python",
   "name": "python3"
  },
  "language_info": {
   "codemirror_mode": {
    "name": "ipython",
    "version": 3
   },
   "file_extension": ".py",
   "mimetype": "text/x-python",
   "name": "python",
   "nbconvert_exporter": "python",
   "pygments_lexer": "ipython3",
   "version": "3.8.18"
  },
  "toc": {
   "base_numbering": 1,
   "nav_menu": {},
   "number_sections": true,
   "sideBar": true,
   "skip_h1_title": false,
   "title_cell": "Table of Contents",
   "title_sidebar": "Contents",
   "toc_cell": false,
   "toc_position": {},
   "toc_section_display": true,
   "toc_window_display": false
  }
 },
 "nbformat": 4,
 "nbformat_minor": 5
}
