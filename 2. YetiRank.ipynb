{
 "cells": [
  {
   "cell_type": "code",
   "execution_count": 2,
   "id": "58d3cb3f",
   "metadata": {},
   "outputs": [],
   "source": [
    "import torch\n",
    "import numpy as np\n",
    "# from utils import compute_ideal_dcg, ndcg"
   ]
  },
  {
   "cell_type": "code",
   "execution_count": 3,
   "id": "788ca880",
   "metadata": {},
   "outputs": [],
   "source": [
    "y_true = torch.LongTensor([[5, 3, 2, 1, 1]]).reshape(-1, 1)\n",
    "y_pred = torch.FloatTensor([3.2, 0.4, -0.1, -2.1, .5, .01]).reshape(-1, 1)"
   ]
  },
  {
   "cell_type": "code",
   "execution_count": 4,
   "id": "b327da11",
   "metadata": {},
   "outputs": [
    {
     "data": {
      "text/plain": [
       "tensor([[ 3.2000],\n",
       "        [ 0.4000],\n",
       "        [-0.1000],\n",
       "        [-2.1000],\n",
       "        [ 0.5000],\n",
       "        [ 0.0100]])"
      ]
     },
     "execution_count": 4,
     "metadata": {},
     "output_type": "execute_result"
    }
   ],
   "source": [
    "y_pred"
   ]
  },
  {
   "cell_type": "code",
   "execution_count": 6,
   "id": "3a7e1f40",
   "metadata": {},
   "outputs": [
    {
     "data": {
      "text/latex": [
       "$$\\lambda = \\left(0.5 * (1 - S_{ij}) - \\frac {1} {1 + e^{s_i - s_j}}\\right) |\\Delta nDCG|$$\n"
      ],
      "text/plain": [
       "<IPython.core.display.Latex object>"
      ]
     },
     "metadata": {},
     "output_type": "display_data"
    }
   ],
   "source": [
    "%%latex\n",
    "$$\\lambda = \\left(0.5 * (1 - S_{ij}) - \\frac {1} {1 + e^{s_i - s_j}}\\right) |\\Delta nDCG|$$"
   ]
  },
  {
   "cell_type": "code",
   "execution_count": 7,
   "id": "ae19634e",
   "metadata": {},
   "outputs": [
    {
     "data": {
      "text/latex": [
       "$$\\Delta nDCG = \\frac {1} {IdealDCG} (2^i - 2^j) \\left(\\frac {1} {log_2(1+i)} - \\frac {1} {log_2(1+j)}\\right)$$\n"
      ],
      "text/plain": [
       "<IPython.core.display.Latex object>"
      ]
     },
     "metadata": {},
     "output_type": "display_data"
    }
   ],
   "source": [
    "%%latex\n",
    "$$\\Delta nDCG = \\frac {1} {IdealDCG} (2^i - 2^j) \\left(\\frac {1} {log_2(1+i)} - \\frac {1} {log_2(1+j)}\\right)$$"
   ]
  },
  {
   "cell_type": "code",
   "execution_count": null,
   "id": "44266436",
   "metadata": {},
   "outputs": [],
   "source": [
    "def compute_lambdas(y_true, y_pred, ndcg_scheme='exp2'):\n",
    "    # рассчитаем нормировку, IdealDCG\n",
    "    ideal_dcg = compute_ideal_dcg(y_true, ndcg_scheme=ndcg_scheme)\n",
    "    N = 1 / ideal_dcg\n",
    "    \n",
    "    # рассчитаем порядок документов согласно оценкам релевантности\n",
    "    _, rank_order = torch.sort(y_true, descending=True, axis=0)\n",
    "    rank_order += 1"
   ]
  }
 ],
 "metadata": {
  "kernelspec": {
   "display_name": "Python 3 (ipykernel)",
   "language": "python",
   "name": "python3"
  },
  "language_info": {
   "codemirror_mode": {
    "name": "ipython",
    "version": 3
   },
   "file_extension": ".py",
   "mimetype": "text/x-python",
   "name": "python",
   "nbconvert_exporter": "python",
   "pygments_lexer": "ipython3",
   "version": "3.8.18"
  },
  "toc": {
   "base_numbering": 1,
   "nav_menu": {},
   "number_sections": true,
   "sideBar": true,
   "skip_h1_title": false,
   "title_cell": "Table of Contents",
   "title_sidebar": "Contents",
   "toc_cell": false,
   "toc_position": {},
   "toc_section_display": true,
   "toc_window_display": false
  }
 },
 "nbformat": 4,
 "nbformat_minor": 5
}
