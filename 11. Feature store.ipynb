{
 "cells": [
  {
   "cell_type": "markdown",
   "id": "183c1c8b-ee4f-4873-a4a7-2f2fd4591976",
   "metadata": {},
   "source": [
    "# Feature calcer\n",
    "\n",
    "### Base class"
   ]
  },
  {
   "cell_type": "code",
   "execution_count": null,
   "id": "440a6128-9952-4008-97db-cbe9c26751b5",
   "metadata": {},
   "outputs": [],
   "source": [
    "from abc import ABC, abstractclassmethod \n",
    "\n",
    "\n",
    "class FeatureCalcer(ABC):\n",
    "    name = '_base'\n",
    "    keys = None\n",
    "\n",
    "\n",
    "    def __init__(self, engine, : Engine):\n",
    "        self.engine = engine\n",
    "\n",
    "\n",
    "    @abstractclassmethod\n",
    "    def compute(self):\n",
    "        pass\n",
    "\n",
    "\n",
    "class DateFeatureCalcer(FeatureCalcer):\n",
    "    def __init__(self, date_to: datetime.date, **kwargs):\n",
    "        self.date_to = date_to\n",
    "        super().__init__(**kwargs)"
   ]
  },
  {
   "cell_type": "markdown",
   "id": "1e6508b3-3d20-4631-b3e0-d5f0fc4593b6",
   "metadata": {},
   "source": [
    "### UniqueCategoriesCalcer"
   ]
  },
  {
   "cell_type": "code",
   "execution_count": null,
   "id": "d667cf1a-f773-4aa8-92aa-72869bf291d5",
   "metadata": {},
   "outputs": [],
   "source": [
    "class UniqueCategoriesCalcer(DateFeatureCalcer):\n",
    "    name = 'unique_categories'\n",
    "    keys = ['client_id']\n",
    "\n",
    "\n",
    "    def __init__(self, delta: int, col_category: str = 'level_3', **kwargs):\n",
    "        self.delta = delta\n",
    "        self.col_category = category\n",
    "        super().__init__(**kwargs)\n",
    "\n",
    "        date_to = datetime.datetime.combine(self.date_to, datetime.datetime.min.time())\n",
    "        date_from = date_to - datetime.timedelta(days=self.delta)\n",
    "        date_mask = (purcheses['transaction_datetime'] >= date_from) & (purchases['transaction_datetime'] < date_to)\n",
    "\n",
    "        purchases = (\n",
    "            purchases\n",
    "            .loc[date_mask]\n",
    "            .merge(\n",
    "                products[['product_id', self.col_category]],\n",
    "                on=['product_id'],\n",
    "                how='inner'\n",
    "            )\n",
    "        )\n",
    "        result = purchases.groupby(by=['client_id'])[self.col_category].nunique().reset_index()\n",
    "        result = result.rename(columns={self.col_category: f'unique_{self.col_category}__{self.delta}d'})\n",
    "\n",
    "        return result"
   ]
  },
  {
   "cell_type": "code",
   "execution_count": null,
   "id": "414c34cd-675a-4bf1-b0bc-573802baf108",
   "metadata": {},
   "outputs": [],
   "source": [
    "calcer = UniqueCategoriesCalcer(\n",
    "    engine=engine,\n",
    "    col_category='level_3',\n",
    "    delta=15,\n",
    "    date_to=datetime.date(2019, 3, 19)\n",
    ")"
   ]
  },
  {
   "cell_type": "code",
   "execution_count": null,
   "id": "2ab29aec-3256-41e8-b13d-f9b18f68510d",
   "metadata": {},
   "outputs": [],
   "source": [
    "result = calcer.compute().compute()"
   ]
  },
  {
   "cell_type": "code",
   "execution_count": null,
   "id": "54fd7115-1b7d-4623-a924-647396af486f",
   "metadata": {},
   "outputs": [],
   "source": [
    "result.shape"
   ]
  }
 ],
 "metadata": {
  "kernelspec": {
   "display_name": "Python 3 (ipykernel)",
   "language": "python",
   "name": "python3"
  },
  "language_info": {
   "codemirror_mode": {
    "name": "ipython",
    "version": 3
   },
   "file_extension": ".py",
   "mimetype": "text/x-python",
   "name": "python",
   "nbconvert_exporter": "python",
   "pygments_lexer": "ipython3",
   "version": "3.11.5"
  }
 },
 "nbformat": 4,
 "nbformat_minor": 5
}
