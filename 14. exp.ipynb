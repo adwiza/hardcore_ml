{
 "cells": [
  {
   "cell_type": "code",
   "execution_count": 1,
   "id": "b58780e0-0fc3-4478-8210-5d10193eab18",
   "metadata": {},
   "outputs": [],
   "source": [
    "import numpy as np\n",
    "from tqdm.notebook import tqdm"
   ]
  },
  {
   "cell_type": "code",
   "execution_count": 2,
   "id": "832f2d5a-29c9-41cc-8173-4d4d70a167b8",
   "metadata": {},
   "outputs": [],
   "source": [
    "distr_1 = np.random.normal(200, 20, 10**6)\n",
    "distr_2 = np.random.normal(50, 5, 10**6)\n",
    "global_mean = np.mean((distr_2, distr_1))"
   ]
  },
  {
   "cell_type": "code",
   "execution_count": 3,
   "id": "0b309300-abf9-4e1c-8791-fdb2c8239829",
   "metadata": {},
   "outputs": [
    {
     "data": {
      "application/vnd.jupyter.widget-view+json": {
       "model_id": "03863c35ec344772a24ac73d63a734b9",
       "version_major": 2,
       "version_minor": 0
      },
      "text/plain": [
       "  0%|          | 0/1000 [00:00<?, ?it/s]"
      ]
     },
     "metadata": {},
     "output_type": "display_data"
    },
    {
     "name": "stdout",
     "output_type": "stream",
     "text": [
      "ratio wiwthin interval 0.947\n",
      "mean se 0.32575202496499767\n"
     ]
    }
   ],
   "source": [
    "len_1 = 1000\n",
    "len_2 = 1000\n",
    "total_len = 1. * (len_1 + len_2)\n",
    "result = []\n",
    "\n",
    "w_1 = len_1 / total_len\n",
    "w_2 = len_2 / total_len\n",
    "se_acc = []\n",
    "\n",
    "for i in tqdm(range(1000)):\n",
    "    sample_1 = np.random.choice(distr_1, len_1, False)\n",
    "    sample_2 = np.random.choice(distr_2, len_2, False)\n",
    "    var_strat = (np.var(sample_1) * w_1 + np.var(sample_2) * w_2) / total_len\n",
    "    sample_mean = np.mean((sample_1, sample_2))\n",
    "    se_strat = np.sqrt(var_strat)\n",
    "    se_acc.append(se_strat)\n",
    "    inside = 1\n",
    "    if global_mean < sample_mean - 1.96 * se_strat or global_mean > sample_mean + 1.96 * se_strat:\n",
    "        inside = 0\n",
    "    result.append(inside)\n",
    "\n",
    "\n",
    "print('ratio wiwthin interval', sum(result) / len(result))\n",
    "print('mean se', np.mean(se_acc))"
   ]
  },
  {
   "cell_type": "code",
   "execution_count": 4,
   "id": "b4fa6b10-1719-4d94-b1b3-92bd3ee4e229",
   "metadata": {},
   "outputs": [
    {
     "name": "stdout",
     "output_type": "stream",
     "text": [
      "1.6743693005450504\n"
     ]
    }
   ],
   "source": [
    "means = []\n",
    "\n",
    "for i in range(1000):\n",
    "    sampled = np.random.choice(np.concatenate((distr_1, distr_2)), 1000*2, True)\n",
    "    means.append(np.mean(sampled))\n",
    "\n",
    "print(np.std(means))"
   ]
  }
 ],
 "metadata": {
  "kernelspec": {
   "display_name": "Python 3 (ipykernel)",
   "language": "python",
   "name": "python3"
  },
  "language_info": {
   "codemirror_mode": {
    "name": "ipython",
    "version": 3
   },
   "file_extension": ".py",
   "mimetype": "text/x-python",
   "name": "python",
   "nbconvert_exporter": "python",
   "pygments_lexer": "ipython3",
   "version": "3.11.5"
  }
 },
 "nbformat": 4,
 "nbformat_minor": 5
}
