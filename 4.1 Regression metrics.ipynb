{
 "cells": [
  {
   "cell_type": "code",
   "execution_count": 2,
   "id": "7a9d15fe-10df-46e7-b40b-1d6cf6731657",
   "metadata": {},
   "outputs": [
    {
     "data": {
      "text/latex": [
       "$\\displaystyle MSE = \\frac1N \\sum ^{N}_{i=1} (y_i-\\hat y_i)^2$"
      ],
      "text/plain": [
       "<IPython.core.display.Math object>"
      ]
     },
     "metadata": {},
     "output_type": "display_data"
    }
   ],
   "source": [
    "from IPython.display import display, Math, Latex\n",
    "\n",
    "display(Math(r'MSE = \\frac1N \\sum ^{N}_{i=1} (y_i-\\hat y_i)^2'))"
   ]
  },
  {
   "cell_type": "code",
   "execution_count": 3,
   "id": "3b3a2863-d060-4bac-aadc-422f6e79b539",
   "metadata": {},
   "outputs": [
    {
     "data": {
      "text/latex": [
       "$\\displaystyle RMSE = \\sqrt{\\frac1N \\sum ^{N}_{i=1} (y_i-\\hat y_i)^2} = \\sqrt {MSE}$"
      ],
      "text/plain": [
       "<IPython.core.display.Math object>"
      ]
     },
     "metadata": {},
     "output_type": "display_data"
    }
   ],
   "source": [
    "display(Math(r'RMSE = \\sqrt{\\frac1N \\sum ^{N}_{i=1} (y_i-\\hat y_i)^2} = \\sqrt {MSE}'))"
   ]
  },
  {
   "cell_type": "code",
   "execution_count": 4,
   "id": "a35afc4c-fd54-4f90-a1fe-dc73400650eb",
   "metadata": {},
   "outputs": [
    {
     "data": {
      "text/latex": [
       "$\\displaystyle MAE = \\frac1N \\sum ^{N}_{i=1} |y_i-\\hat y_i|$"
      ],
      "text/plain": [
       "<IPython.core.display.Math object>"
      ]
     },
     "metadata": {},
     "output_type": "display_data"
    }
   ],
   "source": [
    " display(Math(r'MAE = \\frac1N \\sum ^{N}_{i=1} |y_i-\\hat y_i|'))"
   ]
  },
  {
   "cell_type": "code",
   "execution_count": 9,
   "id": "8bc16823-9817-4dc4-afd7-eb49b56c1d47",
   "metadata": {},
   "outputs": [
    {
     "data": {
      "text/latex": [
       "$\\displaystyle R^2 = 1 - \\frac{MSE(model)}{MSE(ocm)}$"
      ],
      "text/plain": [
       "<IPython.core.display.Math object>"
      ]
     },
     "metadata": {},
     "output_type": "display_data"
    }
   ],
   "source": [
    "display(Math(r'R^2 = 1 - \\frac{MSE(model)}{MSE(ocm)}')) # ocm - optimal constant model"
   ]
  },
  {
   "cell_type": "code",
   "execution_count": 10,
   "id": "c2923fe8-c734-4d3d-9ce0-39c5e1b8a51a",
   "metadata": {},
   "outputs": [
    {
     "data": {
      "text/latex": [
       "$\\displaystyle MAPE = \\frac{100%}{N} \\sum ^{N}_{i=1} |\\frac{y_i-\\hat y_i}{y_i}|$"
      ],
      "text/plain": [
       "<IPython.core.display.Math object>"
      ]
     },
     "metadata": {},
     "output_type": "display_data"
    }
   ],
   "source": [
    "display(Math(r'MAPE = \\frac{100%}{N} \\sum ^{N}_{i=1} |\\frac{y_i-\\hat y_i}{y_i}|')) # in Percent"
   ]
  },
  {
   "cell_type": "code",
   "execution_count": 8,
   "id": "16488e92-0883-43de-905e-4471ae00f9a3",
   "metadata": {},
   "outputs": [
    {
     "data": {
      "text/latex": [
       "$\\displaystyle RMSLE = \\sqrt{MSE(log(y_i+1),log(\\hat y_i +1))}$"
      ],
      "text/plain": [
       "<IPython.core.display.Math object>"
      ]
     },
     "metadata": {},
     "output_type": "display_data"
    }
   ],
   "source": [
    "display(Math(r'RMSLE = \\sqrt{MSE(log(y_i+1),log(\\hat y_i +1))}'))"
   ]
  },
  {
   "cell_type": "code",
   "execution_count": 11,
   "id": "9dbf6f2f-be52-4357-9639-5a34bcbc829b",
   "metadata": {},
   "outputs": [
    {
     "data": {
      "text/plain": [
       "Index(['id', 'timestamp', 'full_sq', 'life_sq', 'floor', 'max_floor',\n",
       "       'material', 'build_year', 'num_room', 'kitch_sq', 'apartment condition',\n",
       "       'sub_area', 'price'],\n",
       "      dtype='object')"
      ]
     },
     "execution_count": 11,
     "metadata": {},
     "output_type": "execute_result"
    }
   ],
   "source": [
    "import pandas as pd\n",
    "\n",
    "train_main_df = pd.read_csv('data/less2/HW_train_main_data.csv')\n",
    "train_main_df.columns"
   ]
  },
  {
   "cell_type": "code",
   "execution_count": 13,
   "id": "a8a1861f-aa8e-4643-95ab-d95629eb9629",
   "metadata": {},
   "outputs": [
    {
     "data": {
      "text/plain": [
       "Index(['id', 'population', 'indust_part', 'preschool_facilities',\n",
       "       'school_facilities', 'hospital_beds_raion', 'healthcare_facilities',\n",
       "       'university_num', 'sport_objects_facilities',\n",
       "       'additional_education_facilities', 'culture_objects_facilities',\n",
       "       'shopping_centers_facilities', 'office_num', 'green_part', 'prom_part',\n",
       "       'cafe_count', 'church_facilities', 'mosque', 'leisure_facilities'],\n",
       "      dtype='object')"
      ]
     },
     "execution_count": 13,
     "metadata": {},
     "output_type": "execute_result"
    }
   ],
   "source": [
    "train_additional_df = pd.read_csv('data/less2/HW_train_additional_data.csv')\n",
    "train_additional_df.columns"
   ]
  },
  {
   "cell_type": "code",
   "execution_count": null,
   "id": "65a82bcb-a01a-41c1-bb07-1442dfe895a4",
   "metadata": {},
   "outputs": [],
   "source": []
  }
 ],
 "metadata": {
  "kernelspec": {
   "display_name": "Python 3 (ipykernel)",
   "language": "python",
   "name": "python3"
  },
  "language_info": {
   "codemirror_mode": {
    "name": "ipython",
    "version": 3
   },
   "file_extension": ".py",
   "mimetype": "text/x-python",
   "name": "python",
   "nbconvert_exporter": "python",
   "pygments_lexer": "ipython3",
   "version": "3.11.5"
  }
 },
 "nbformat": 4,
 "nbformat_minor": 5
}
